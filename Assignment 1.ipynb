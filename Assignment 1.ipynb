{
 "cells": [
  {
   "cell_type": "raw",
   "id": "f13ff661",
   "metadata": {},
   "source": [
    "1. In the below elements which of them are values or an expression? eg:- values can be\n",
    "integer or string and expressions will be mathematical operators.\n",
    "\n",
    "*         Ans : Mathematical operator Multiplication\n",
    "\n",
    "'hello'   Ans: String  \n",
    "\n",
    "-87.8     Ans : Float \n",
    "\n",
    "-         Ans : Mathematical operator subtraction\n",
    "\n",
    "/         Ans : Mathematical operator Division\n",
    "\n",
    "+         Ans : Mathematical operator called addition\n",
    "\n",
    "6         Ans : Integer\n",
    "\n"
   ]
  },
  {
   "cell_type": "raw",
   "id": "e915c8bd",
   "metadata": {},
   "source": [
    "2. What is the difference between string and variable\n",
    "\n",
    "Ans: \n",
    "     String - Whatever we write in python in '' or in \"\" will be consider as  string. \n",
    "              For example \"ABCD\" \"@\"  '$$'  '2345678' '87.44' These are all examples of string.\n",
    "              \n",
    "     Variable - It can be use to store the data. Then that can be string also.\n",
    "                For example  a=\"ABCD\",b=\"4567\", z = \"7*5\"\n",
    "     \n",
    "     String can be variable but not vice versa.\n",
    "     we assigned data types to variables and string itself is data type.\n",
    "              "
   ]
  },
  {
   "cell_type": "raw",
   "id": "f93830f2",
   "metadata": {},
   "source": [
    "3. Describe three different data types.\n",
    "Ans: List  a = [1,2,3,4,6,\"a\",[123],(32343,1234),{1,2,3}]  \n",
    "               List can be use to store any type of  data in it. List can be use to store string,int\n",
    "               list,set,dictionary,tuple in it.\n",
    "     Set   n = {1,2,3,\"asdf\",(12,32)}\n",
    "               Set can be use to store int,str,tuple data type but not list,set,dictioanry.\n",
    "               \n",
    "     Numbers:- This Numeric data type it may use to store values of integer type or float type. \n",
    "               a = 1\n",
    "               b = 7.2\n",
    "     String :- String is data type which store the data in single qotation mark or Double qotation                    mark.\n",
    "                a = \"1234\"\n",
    "                b = 'efdsdj'\n",
    "          "
   ]
  },
  {
   "cell_type": "raw",
   "id": "b5584148",
   "metadata": {},
   "source": [
    "4. What is an expression made up of? What do all expressions do?\n",
    "Answer:  An expression is a combination of values, variables, and operators.\n",
    "         If we type an expression on the command line, then interpreter evaluates it and displays the          result.\n",
    "         a = 2+4\n",
    "         > 6 "
   ]
  },
  {
   "cell_type": "raw",
   "id": "853c654b",
   "metadata": {},
   "source": [
    "5. This assignment statements, like spam = 10. What is the difference between an\n",
    "   expression and a statement?\n",
    "Answer: A statement is an instruction that the Python interpreter can execute. There are two kinds             of statements: print and assignment.\n",
    "        When we type a statement on the command line, Python executes it and displays the result, if           there is one. The result of a print statement is a value. Assignment statements don't produce         a result. \n",
    "        Like here spam = 10 is an assignment statement if we exceute it, It will give 10 itself only.\n",
    "        \n",
    "        On the other hand,\n",
    "        Expression always display the result after evaluation by the interpreter."
   ]
  },
  {
   "cell_type": "raw",
   "id": "8bc884ea",
   "metadata": {},
   "source": [
    "6. After running the following code, what does the variable bacon contain?\n",
    "   bacon = 22\n",
    "   bacon + 1\n",
    "Answer : The variable bacon hold the value 22 becuase adding +1 does not reassign the value in bacon. "
   ]
  },
  {
   "cell_type": "code",
   "execution_count": 6,
   "id": "263eaa47",
   "metadata": {},
   "outputs": [
    {
     "data": {
      "text/plain": [
       "'spamspamspam'"
      ]
     },
     "execution_count": 6,
     "metadata": {},
     "output_type": "execute_result"
    }
   ],
   "source": [
    "#7. What should the values of the following two terms be?\n",
    "'spam' + 'spamspam'"
   ]
  },
  {
   "cell_type": "code",
   "execution_count": 7,
   "id": "258e9ec4",
   "metadata": {},
   "outputs": [
    {
     "data": {
      "text/plain": [
       "'spamspamspam'"
      ]
     },
     "execution_count": 7,
     "metadata": {},
     "output_type": "execute_result"
    }
   ],
   "source": [
    "'spam'* 3"
   ]
  },
  {
   "cell_type": "raw",
   "id": "2d7c65c0",
   "metadata": {},
   "source": [
    "8. Why is eggs a valid variable name while 100 is invalid?\n",
    "Answer : Variable names cannot begin with a number."
   ]
  },
  {
   "cell_type": "raw",
   "id": "4caba04c",
   "metadata": {},
   "source": [
    "9. What three functions can be used to get the integer, floating-point number, or string\n",
    "version of a value?\n",
    "Answer: The int(), float(), and str() functions will evaluate to the \n",
    "integer, floating-point number, and string versions of the value passed to them."
   ]
  },
  {
   "cell_type": "raw",
   "id": "eb4cd22b",
   "metadata": {},
   "source": [
    "10. Why does this expression cause an error? How can you fix it?\n",
    "  'I have eaten' + 99 +' burritos.'\n",
    "Answer : The concanicate operation can only be done in between str to str or int to int.\n",
    "         Here 99 is an int. we need to convert 99 into str like '99'. Then only this operation can              work."
   ]
  },
  {
   "cell_type": "code",
   "execution_count": 10,
   "id": "a92f2f84",
   "metadata": {},
   "outputs": [
    {
     "data": {
      "text/plain": [
       "'I have eaten99 burritos.'"
      ]
     },
     "execution_count": 10,
     "metadata": {},
     "output_type": "execute_result"
    }
   ],
   "source": [
    "  'I have eaten' + '99' +' burritos.'"
   ]
  },
  {
   "cell_type": "code",
   "execution_count": null,
   "id": "7d7de7db",
   "metadata": {},
   "outputs": [],
   "source": []
  }
 ],
 "metadata": {
  "kernelspec": {
   "display_name": "Python 3 (ipykernel)",
   "language": "python",
   "name": "python3"
  },
  "language_info": {
   "codemirror_mode": {
    "name": "ipython",
    "version": 3
   },
   "file_extension": ".py",
   "mimetype": "text/x-python",
   "name": "python",
   "nbconvert_exporter": "python",
   "pygments_lexer": "ipython3",
   "version": "3.9.12"
  }
 },
 "nbformat": 4,
 "nbformat_minor": 5
}
